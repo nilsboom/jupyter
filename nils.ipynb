{
 "cells": [
  {
   "attachments": {
    "frame.png": {
     "image/png": "[encoded data removed]"
    }
   },
   "cell_type": "markdown",
   "metadata": {
    "slideshow": {
     "slide_type": "fragment"
    }
   },
   "source": [
    "![frame.png](attachment:frame.png)# BK19/20 - Tag 2 - Übung 03 - Verzweigungen\n",
    "\n",
    "Die Aufgaben in diesem Dokument entsprechen den Aufgaben zu Verzweigungen, die wir in der ersten Vorlesung behandelt haben."
   ]
  },
  {
   "cell_type": "markdown",
   "metadata": {
    "slideshow": {
     "slide_type": "slide"
    }
   },
   "source": [
    "## Aufgabe 01 - Mini-KI\n",
    "\n",
    "Schreibe eine kleine \"KI\", die dir hilft, die schwierigen Entscheidungen im Leben zu treffen.\n",
    "Benutze dazu die Funktion `Math.random()`, um eine Pseudozufallszahl zwischen 0 und 1 zu erzeugen und dann zu testen, ob diese Zahl größer oder kleiner als 0,5 ist. Ist sie größer, gib \"Ja, auf jeden Fall!\" mit `System.out.println` aus. Ist sie kleiner, gib \"Nein, ganz sicher nicht!\" aus.\n",
    "\n",
    "*Tipp: Denk daran, dass Fließkommazahlen in Java einen Punkt statt einem Komma verwenden.*"
   ]
  },
  {
   "cell_type": "code",
   "execution_count": 1,
   "metadata": {
    "slideshow": {
     "slide_type": "slide"
    }
   },
   "outputs": [
    {
     "name": "stdout",
     "output_type": "stream",
     "text": [
      "Ja, auf jeden Fall!\r\n"
     ]
    }
   ],
   "source": [
    "if(Math.random()>0.5){\n",
    "    System.out.println(\"Ja, auf jeden Fall!\");\n",
    "}else{\n",
    "    System.out.println(\"Nein, ganz sicher nicht!\");\n",
    "}"
   ]
  },
  {
   "cell_type": "markdown",
   "metadata": {},
   "source": [
    "## Aufgabe 02 - Mini-KI 2\n",
    "\n",
    "Füge die Frage, die du der KI stellen möchtest, als Variable `question` vom Typ `String` zu deinem Programm hinzu.\n",
    "Die vollständige KI soll dann zuerst ausgeben \"F: Soll ich \" gefolgt von dem Inhalt von `question` und einem Fragezeichen. Danach soll genauso wie in Aufgabe 1 die passende Antwort ausgegeben werden mit einem \"A: \" am Anfang.\n",
    "\n",
    "Kopiere dazu zunächst den Code von Aufgabe 1, um ihn hier entsprechend anzupassen.\n",
    "\n",
    "Beispielausgabe, wenn der Inhatl von Question \"morgen zum Brückenkurs gehen\" lautet:\n",
    "\n",
    "```\n",
    "F: Soll ich morgen zum Brückenkurs gehen?\n",
    "A: Ja, auf jeden Fall!\n",
    "```"
   ]
  },
  {
   "cell_type": "code",
   "execution_count": null,
   "metadata": {},
   "outputs": [],
   "source": []
  },
  {
   "cell_type": "markdown",
   "metadata": {},
   "source": [
    "## Aufgabe 03 - PQ-Formel\n",
    "\n",
    "Schreibe ein Stück code, das die pq-Formel umsetzt:\n",
    "\n",
    "$$\n",
    "x_{1,2} = - \\frac{p}{2} \\pm \\sqrt{\\left(\\frac{p}{2}\\right)^2 - q}\n",
    "$$\n",
    "\n",
    "Unterscheide dabei auch, ob die Formel ...\n",
    "\n",
    "* keine Lösung (Teil unter der Wurzel ist kleiner 0)\n",
    "* eine Lösung (Teil unter der Wurzel ist gleich 0)\n",
    "* oder zwei Lösungen (Teil unter der Wurzel ist größer 0)\n",
    "\n",
    "... hat."
   ]
  },
  {
   "cell_type": "code",
   "execution_count": null,
   "metadata": {},
   "outputs": [],
   "source": []
  },
  {
   "cell_type": "markdown",
   "metadata": {},
   "source": [
    "## Aufgabe 04 - Pizzavergleich\n",
    "\n",
    "Als Programmierer hat man einen erhöhten Pizzabedarf. Es wird ein Programm benötigt um herauszufinden welche Pizzeria das beste Preis/Leistungs Verhältnis bietet. \n",
    "\n",
    "* Pizzeria A(lberto): Eckig - 40cmx60cm für 15€\n",
    "\n",
    "* Pizzeria B(ella Italia): Rund - Durchmesser 42cm für 16€\n",
    "\n",
    "Schreibe ein Programm, das ausgibt welche Pizzeria das bessere Preis/Leistungsverhältnis hat.\n",
    "\n",
    "*Bonus:* Ab wie viel cm ist die Runde Pizza im Verhältnis günstiger, bei einem Preis von 16€?"
   ]
  },
  {
   "cell_type": "code",
   "execution_count": null,
   "metadata": {},
   "outputs": [],
   "source": []
  },
  {
   "cell_type": "markdown",
   "metadata": {},
   "source": [
    "## Aufgabe 05 - Klein- und Großbuchstaben\n",
    "\n",
    "Die Umwandlung von Großbuchstaben in Kleinbuchstaben in Aufgabe 3 auf auf Aufgabenblatt 2 von Tag 1 funktioniert nur für die Buchtaben A-Z, nicht für die Umlaute ÄÖÜ. Außerdem geht sie auch schief, wenn die Variable, die umgewandelt werden soll, fälschlicherweise schon einen Kleinbuchstaben oder ein anderes Zeichen enthält.\n",
    "Behebe diese Schwachstellen mit den folgenden Abfragen:\n",
    "\n",
    "1. Teste, ob es sich bei `upper` überhaupt um einen Großbuchstaben handelt. Wenn nicht, gib eine Fehlermeldung aus.\n",
    "2. Wenn 1) keinen Fehler ergeben hat, prüfe ob es sich um einen Umlaut handelt. Wenn nein, führe die Berechnung aus der Aufgabe von Tag 1 aus. Falls ja, überlege dir eine neue Rechnung für Umlaute und führe diese aus."
   ]
  },
  {
   "cell_type": "code",
   "execution_count": 2,
   "metadata": {},
   "outputs": [],
   "source": [
    "char upper = 'Ä';"
   ]
  },
  {
   "cell_type": "code",
   "execution_count": null,
   "metadata": {},
   "outputs": [],
   "source": []
  }
 ],
 "metadata": {
  "kernelspec": {
   "display_name": "Java",
   "language": "java",
   "name": "java"
  },
  "language_info": {
   "codemirror_mode": "java",
   "file_extension": ".jshell",
   "mimetype": "text/x-java-source",
   "name": "Java",
   "pygments_lexer": "java",
   "version": "14.0.1+7"
  }
 },
 "nbformat": 4,
 "nbformat_minor": 2
}
